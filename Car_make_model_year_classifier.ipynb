{
  "nbformat": 4,
  "nbformat_minor": 0,
  "metadata": {
    "kernelspec": {
      "display_name": "Python 3",
      "language": "python",
      "name": "python3"
    },
    "language_info": {
      "codemirror_mode": {
        "name": "ipython",
        "version": 3
      },
      "file_extension": ".py",
      "mimetype": "text/x-python",
      "name": "python",
      "nbconvert_exporter": "python",
      "pygments_lexer": "ipython3",
      "version": "3.6.9"
    },
    "colab": {
      "name": "Car make, model, year classifier",
      "provenance": [],
      "collapsed_sections": [
        "TrYUKSmvFnfc",
        "qZjb3NWUFnfx",
        "8I8vvFMcFnf9",
        "9cMe7j2TFngH"
      ],
      "include_colab_link": true
    }
  },
  "cells": [
    {
      "cell_type": "markdown",
      "metadata": {
        "id": "view-in-github",
        "colab_type": "text"
      },
      "source": [
        "<a href=\"https://colab.research.google.com/github/PiyushM1/Car-make-model-and-year-classifier/blob/master/Car_make_model_year_classifier.ipynb\" target=\"_parent\"><img src=\"https://colab.research.google.com/assets/colab-badge.svg\" alt=\"Open In Colab\"/></a>"
      ]
    },
    {
      "cell_type": "markdown",
      "metadata": {
        "id": "2DxfQyMYFnYw",
        "colab_type": "text"
      },
      "source": [
        "# Goal\n",
        "\n",
        "\n",
        "### To train three classifiers to predict a car's make, model and year based on inception_v3 model using [Monk](https://github.com/Tessellate-Imaging/monk_v1)\n"
      ]
    },
    {
      "cell_type": "code",
      "metadata": {
        "id": "qj8EvWeIKWFQ",
        "colab_type": "code",
        "colab": {}
      },
      "source": [
        "from google.colab import drive\n",
        "drive.mount('/content/drive')"
      ],
      "execution_count": null,
      "outputs": []
    },
    {
      "cell_type": "code",
      "metadata": {
        "id": "uTxSyDbMLLvl",
        "colab_type": "code",
        "colab": {}
      },
      "source": [
        "import os\n",
        "os.chdir(\"/content/drive/My Drive/PilotTask\")"
      ],
      "execution_count": 3,
      "outputs": []
    },
    {
      "cell_type": "markdown",
      "metadata": {
        "id": "vw7Jgim4FnZB",
        "colab_type": "text"
      },
      "source": [
        "# Table of Contents\n",
        "\n",
        "\n",
        "\n",
        "1.   Install Monk\n",
        "2.   List item\n",
        "\n"
      ]
    },
    {
      "cell_type": "markdown",
      "metadata": {
        "id": "RxTKksU9FnZJ",
        "colab_type": "text"
      },
      "source": [
        "<a id='0'></a>\n",
        "# Install Monk\n",
        "  \n",
        " - git clone https://github.com/Tessellate-Imaging/monk_v1.git\n",
        " \n",
        " - cd monk_v1/installation/Linux && pip install -r requirements_cu9.txt\n",
        "     - (Select the requirements file as per OS and CUDA version)"
      ]
    },
    {
      "cell_type": "code",
      "metadata": {
        "id": "NVoFDp5yFnZJ",
        "colab_type": "code",
        "colab": {}
      },
      "source": [
        "!git clone https://github.com/Tessellate-Imaging/monk_v1.git"
      ],
      "execution_count": null,
      "outputs": []
    },
    {
      "cell_type": "code",
      "metadata": {
        "id": "YDFW1lVUFnZO",
        "colab_type": "code",
        "colab": {}
      },
      "source": [
        "# If using Colab install using the commands below\n",
        "!cd monk_v1/installation/Misc && pip install -r requirements_colab.txt\n",
        "\n",
        "# If using Kaggle uncomment the following command\n",
        "#!cd monk_v1/installation/Misc && pip install -r requirements_kaggle.txt\n",
        "\n",
        "# Select the requirements file as per OS and CUDA version when using a local system or cloud\n",
        "#!cd monk_v1/installation/Linux && pip install -r requirements_cu9.txt"
      ],
      "execution_count": null,
      "outputs": []
    },
    {
      "cell_type": "markdown",
      "metadata": {
        "id": "HalBN-GOFnZX",
        "colab_type": "text"
      },
      "source": [
        "## Dataset - Car make, model and year classification\n",
        "[Cars Train dataset](http://imagenet.stanford.edu/internal/car196/cars_train.tgz)\n",
        "\n",
        "[Cars Test dataset](http://imagenet.stanford.edu/internal/car196/cars_test.tgz)"
      ]
    },
    {
      "cell_type": "code",
      "metadata": {
        "id": "mREsSoEjFnZY",
        "colab_type": "code",
        "colab": {}
      },
      "source": [
        "! wget \"http://imagenet.stanford.edu/internal/car196/cars_train.tgz\" # Train dataset"
      ],
      "execution_count": null,
      "outputs": []
    },
    {
      "cell_type": "code",
      "metadata": {
        "id": "fDhurTCxFnZg",
        "colab_type": "code",
        "colab": {}
      },
      "source": [
        "!tar -xvf 'cars_train.tgz' -C 'data' #Extracting"
      ],
      "execution_count": null,
      "outputs": []
    },
    {
      "cell_type": "code",
      "metadata": {
        "id": "nQRreBaVY3Dn",
        "colab_type": "code",
        "colab": {}
      },
      "source": [
        "!wget \"https://ai.stanford.edu/~jkrause/cars/car_devkit.tgz\" # Devkit for the dataset"
      ],
      "execution_count": null,
      "outputs": []
    },
    {
      "cell_type": "code",
      "metadata": {
        "id": "6ExaslFrFnZl",
        "colab_type": "code",
        "colab": {}
      },
      "source": [
        "!tar -xvf 'car_devkit.tgz' -C 'data' #Extracting"
      ],
      "execution_count": null,
      "outputs": []
    },
    {
      "cell_type": "code",
      "metadata": {
        "id": "n4i8Vy3_KQpn",
        "colab_type": "code",
        "colab": {}
      },
      "source": [
        "! wget \"http://imagenet.stanford.edu/internal/car196/cars_test.tgz\" # Test dataset"
      ],
      "execution_count": null,
      "outputs": []
    },
    {
      "cell_type": "code",
      "metadata": {
        "id": "Iwvw58k1KYvG",
        "colab_type": "code",
        "colab": {}
      },
      "source": [
        "!tar -xvf 'cars_test.tgz' -C 'data' #Extracting"
      ],
      "execution_count": null,
      "outputs": []
    },
    {
      "cell_type": "markdown",
      "metadata": {
        "id": "aOa6bPNyGPAe",
        "colab_type": "text"
      },
      "source": [
        "#Loading files containing labels"
      ]
    },
    {
      "cell_type": "code",
      "metadata": {
        "id": "jKekj0eNMbY3",
        "colab_type": "code",
        "colab": {}
      },
      "source": [
        "from scipy import io\n",
        "import pandas as pd"
      ],
      "execution_count": null,
      "outputs": []
    },
    {
      "cell_type": "markdown",
      "metadata": {
        "id": "-PmueiueGaDI",
        "colab_type": "text"
      },
      "source": [
        "For converting the ID to its corresponding label"
      ]
    },
    {
      "cell_type": "code",
      "metadata": {
        "id": "VcyK7wRjGOq0",
        "colab_type": "code",
        "colab": {}
      },
      "source": [
        "class_name = io.loadmat('./data/devkit/cars_meta.mat')"
      ],
      "execution_count": null,
      "outputs": []
    },
    {
      "cell_type": "code",
      "metadata": {
        "id": "LklritDrFnZo",
        "colab_type": "code",
        "colab": {}
      },
      "source": [
        "combined = []\n",
        "for name in class_name['class_names'][0]:\n",
        "  name=name.flat[0]\n",
        "  splits = name.split(\" \")\n",
        "  make = splits[0]\n",
        "  year = splits[len(splits)-1]\n",
        "  model = \"\"\n",
        "  for tmp in splits[1:len(splits)-2]:\n",
        "    model = model + tmp + \" \"\n",
        "  combined.append([make,model[:-1],year])  "
      ],
      "execution_count": null,
      "outputs": []
    },
    {
      "cell_type": "markdown",
      "metadata": {
        "id": "VQ_H9pQWGjgw",
        "colab_type": "text"
      },
      "source": [
        "For assigning a label to each image in the train dataset"
      ]
    },
    {
      "cell_type": "code",
      "metadata": {
        "id": "FZgfan9R7Z4A",
        "colab_type": "code",
        "colab": {}
      },
      "source": [
        "train_labels = io.loadmat('./data/devkit/cars_train_annos.mat')"
      ],
      "execution_count": null,
      "outputs": []
    },
    {
      "cell_type": "code",
      "metadata": {
        "id": "kEJRBBeKFnZr",
        "colab_type": "code",
        "colab": {}
      },
      "source": [
        "data=[[row.flat[0] for row in line][4:] for line in train_labels['annotations'][0]]"
      ],
      "execution_count": null,
      "outputs": []
    },
    {
      "cell_type": "code",
      "metadata": {
        "id": "l2I-6YhVEHD8",
        "colab_type": "code",
        "colab": {}
      },
      "source": [
        "# Separating make, model and year for each image and saving them in different csv files\n",
        "make = [[row[1],combined[row[0]-1][0]] for row in data]\n",
        "model= [[row[1],combined[row[0]-1][1]] for row in data]\n",
        "year = [[row[1],combined[row[0]-1][2]] for row in data]\n",
        "\n",
        "df = pd.DataFrame(make, columns = ['ID', 'Labels'])\n",
        "df.to_csv(\"vehicles_make.csv\", index = False)\n",
        "df = pd.DataFrame(model, columns = ['ID', 'Labels'])\n",
        "df.to_csv(\"vehicles_model.csv\", index = False)\n",
        "df = pd.DataFrame(year, columns = ['ID', 'Labels'])\n",
        "df.to_csv(\"vehicles_year.csv\", index = False)"
      ],
      "execution_count": null,
      "outputs": []
    },
    {
      "cell_type": "markdown",
      "metadata": {
        "id": "SyTX4UNaIzyr",
        "colab_type": "text"
      },
      "source": [
        "For assigning a label to each image in the test dataset"
      ]
    },
    {
      "cell_type": "code",
      "metadata": {
        "id": "m4RdOrZ6I37V",
        "colab_type": "code",
        "colab": {}
      },
      "source": [
        "# Download test annotations with labels\n",
        "!wget \"http://imagenet.stanford.edu/internal/car196/cars_test_annos_withlabels.mat\" -P './data/devkit'"
      ],
      "execution_count": null,
      "outputs": []
    },
    {
      "cell_type": "code",
      "metadata": {
        "id": "kvZgVqa1Jjpa",
        "colab_type": "code",
        "colab": {}
      },
      "source": [
        "test_labels = io.loadmat('./data/devkit/cars_test_annos_withlabels.mat')"
      ],
      "execution_count": null,
      "outputs": []
    },
    {
      "cell_type": "code",
      "metadata": {
        "id": "CHcQI8CuJumR",
        "colab_type": "code",
        "colab": {}
      },
      "source": [
        "data_test=[[row.flat[0] for row in line][4:] for line in test_labels['annotations'][0]]"
      ],
      "execution_count": null,
      "outputs": []
    },
    {
      "cell_type": "code",
      "metadata": {
        "id": "IOVYPlB7Jy-k",
        "colab_type": "code",
        "colab": {}
      },
      "source": [
        "# Separating make, model and year for each image and saving them in different csv files\n",
        "make = [[row[1],combined[row[0]-1][0]] for row in data_test]\n",
        "model= [[row[1],combined[row[0]-1][1]] for row in data_test]\n",
        "year = [[row[1],combined[row[0]-1][2]] for row in data_test]\n",
        "\n",
        "df = pd.DataFrame(make, columns = ['ID', 'Labels'])\n",
        "df.to_csv(\"vehicles_make_test.csv\", index = False)\n",
        "df = pd.DataFrame(model, columns = ['ID', 'Labels'])\n",
        "df.to_csv(\"vehicles_model_test.csv\", index = False)\n",
        "df = pd.DataFrame(year, columns = ['ID', 'Labels'])\n",
        "df.to_csv(\"vehicles_year_test.csv\", index = False)"
      ],
      "execution_count": null,
      "outputs": []
    },
    {
      "cell_type": "markdown",
      "metadata": {
        "id": "8Zmi3BCgFnZu",
        "colab_type": "text"
      },
      "source": [
        "# Imports"
      ]
    },
    {
      "cell_type": "code",
      "metadata": {
        "id": "R0vya0I6FnZv",
        "colab_type": "code",
        "colab": {}
      },
      "source": [
        "# Monk\n",
        "import os\n",
        "import sys\n",
        "sys.path.append(\"monk_v1/monk/\");"
      ],
      "execution_count": 77,
      "outputs": []
    },
    {
      "cell_type": "code",
      "metadata": {
        "id": "CrMxLpGhRdfP",
        "colab_type": "code",
        "colab": {
          "base_uri": "https://localhost:8080/",
          "height": 51
        },
        "outputId": "95d86947-b262-4b39-a011-f605db49e362"
      },
      "source": [
        "# Installing required libraries\n",
        "!pip install GPUtil\n",
        "!pip install pylg"
      ],
      "execution_count": 78,
      "outputs": [
        {
          "output_type": "stream",
          "text": [
            "Requirement already satisfied: GPUtil in /usr/local/lib/python3.6/dist-packages (1.4.0)\n",
            "Requirement already satisfied: pylg in /usr/local/lib/python3.6/dist-packages (1.3.3)\n"
          ],
          "name": "stdout"
        }
      ]
    },
    {
      "cell_type": "code",
      "metadata": {
        "id": "EtIdKPx_FnZy",
        "colab_type": "code",
        "colab": {}
      },
      "source": [
        "# For Keras backend\n",
        "from keras_prototype import prototype\n",
        "\n",
        "# Using mxnet-gluon backend \n",
        "# from gluon_prototype import prototype\n",
        "\n",
        "# For pytorch backend\n",
        "# from pytorch_prototype import prototype"
      ],
      "execution_count": 79,
      "outputs": []
    },
    {
      "cell_type": "markdown",
      "metadata": {
        "id": "3X_FwA0bFnbY",
        "colab_type": "text"
      },
      "source": [
        "<a id='3'></a>\n",
        "# Make Classifier"
      ]
    },
    {
      "cell_type": "code",
      "metadata": {
        "id": "Iy9yVPV5Fnbc",
        "colab_type": "code",
        "colab": {
          "base_uri": "https://localhost:8080/",
          "height": 629
        },
        "outputId": "d24800bb-e3cf-404a-e4ef-eb45d7588b6c"
      },
      "source": [
        "# Load experiment\n",
        "gtf = prototype(verbose=1);\n",
        "gtf.Prototype(\"Make_classifier\", \"inception-v3\")\n",
        "\n",
        "\n",
        "gtf.Dataset_Params(dataset_path=\"data/cars_train\",\n",
        "                   path_to_csv=\"vehicles_make.csv\",\n",
        "                   split=0.8, input_size=224, \n",
        "                   batch_size=64, \n",
        "                   shuffle_data=True, \n",
        "                   num_processors=3)\n",
        "\n",
        "# Transform\n",
        "gtf.apply_random_horizontal_flip(train=True, val=True)\n",
        "\n",
        "# Set Dataset\n",
        "gtf.Dataset();"
      ],
      "execution_count": 68,
      "outputs": [
        {
          "output_type": "stream",
          "text": [
            "Keras Version: 2.3.1\n",
            "Tensorflow Version: 2.2.0\n",
            "\n",
            "Experiment Details\n",
            "    Project: Make_classifier\n",
            "    Experiment: inception-v3\n",
            "    Dir: /content/drive/My Drive/PilotTask/workspace/Make_classifier/inception-v3/\n",
            "\n",
            "Dataset Details\n",
            "    Train path:     data/cars_train\n",
            "    Val path:       None\n",
            "    CSV train path: vehicles_make.csv\n",
            "    CSV val path:   None\n",
            "    Label Type:     single\n",
            "\n",
            "Dataset Params\n",
            "    Input Size:   224\n",
            "    Batch Size:   64\n",
            "    Data Shuffle: True\n",
            "    Processors:   3\n",
            "    Train-val split:   0.8\n",
            "    Delimiter:   ,\n",
            "\n",
            "Found 6516 validated image filenames belonging to 49 classes.\n",
            "Found 1628 validated image filenames belonging to 49 classes.\n",
            "Pre-Composed Train Transforms\n",
            "[{'RandomHorizontalFlip': {'p': 0.5}}]\n",
            "\n",
            "Pre-Composed Val Transforms\n",
            "[{'RandomHorizontalFlip': {'p': 0.5}}]\n",
            "\n",
            "Dataset Numbers\n",
            "    Num train images: 6516\n",
            "    Num val images:   1628\n",
            "    Num classes:      49\n",
            "\n"
          ],
          "name": "stdout"
        }
      ]
    },
    {
      "cell_type": "code",
      "metadata": {
        "id": "2MLnUmo6Fnbj",
        "colab_type": "code",
        "colab": {
          "base_uri": "https://localhost:8080/",
          "height": 255
        },
        "outputId": "40357184-3d66-41d3-fe5f-d41b8d535d82"
      },
      "source": [
        "# Set model parameters\n",
        "gtf.Model_Params(model_name=\"inception_v3\", freeze_base_network=False, use_gpu=True, use_pretrained=False, gpu_memory_fraction=0.8);\n",
        "\n",
        "# Load model\n",
        "gtf.Model()"
      ],
      "execution_count": 69,
      "outputs": [
        {
          "output_type": "stream",
          "text": [
            "Model Params\n",
            "    Model name:           inception_v3\n",
            "    Use Gpu:              True\n",
            "    Gpu Memory Fraction:  0.8\n",
            "    Use pretrained:       False\n",
            "    Freeze base network:  False\n",
            "\n",
            "Model Details\n",
            "    Loading pretrained model\n",
            "    Model Loaded on device\n",
            "        Model name:                           inception_v3\n",
            "        Num layers in model:  190\n",
            "        Num trainable layers: 190\n",
            "\n"
          ],
          "name": "stdout"
        }
      ]
    },
    {
      "cell_type": "code",
      "metadata": {
        "id": "dOvNKoMvWfdE",
        "colab_type": "code",
        "colab": {
          "base_uri": "https://localhost:8080/",
          "height": 374
        },
        "outputId": "5a1859a0-c7b7-424b-daf5-3ac721756791"
      },
      "source": [
        "# Set Training parameters\n",
        "gtf.Training_Params(num_epochs=10, display_progress=True, display_progress_realtime=True, \n",
        "                    save_intermediate_models=True, save_training_logs=True)\n",
        "\n",
        "# Using RMSprop optimizer\n",
        "gtf.optimizer_sgd(0.03)\n",
        "\n",
        "# Fixed learning rate\n",
        "gtf.lr_fixed()"
      ],
      "execution_count": 70,
      "outputs": [
        {
          "output_type": "stream",
          "text": [
            "Training params\n",
            "    Num Epochs: 10\n",
            "\n",
            "Display params\n",
            "    Display progress:          True\n",
            "    Display progress realtime: True\n",
            "    Save Training logs:        True\n",
            "    Save Intermediate models:  True\n",
            "    Intermediate model prefix: intermediate_model_\n",
            "\n",
            "Optimizer\n",
            "    Name:          sgd\n",
            "    Learning rate: 0.03\n",
            "    Params:        {'lr': 0.03, 'momentum': 0, 'weight_decay': 0, 'momentum_dampening_rate': 0, 'clipnorm': 0.0, 'clipvalue': 0.0}\n",
            "\n",
            "\n",
            "\n",
            "Learning rate scheduler\n",
            "    Name:   fixed\n",
            "    Params: {}\n",
            "\n"
          ],
          "name": "stdout"
        }
      ]
    },
    {
      "cell_type": "code",
      "metadata": {
        "id": "Hlu-7mmXYQhi",
        "colab_type": "code",
        "colab": {
          "base_uri": "https://localhost:8080/",
          "height": 85
        },
        "outputId": "ba16fdc4-bf76-4bcc-dce3-d997e5214cb6"
      },
      "source": [
        "gtf.loss_crossentropy()"
      ],
      "execution_count": 71,
      "outputs": [
        {
          "output_type": "stream",
          "text": [
            "Loss\n",
            "    Name:          crossentropy\n",
            "    Params:        {'weight': None, 'batch_axis': 0, 'axis_to_sum_over': -1, 'label_as_categories': True, 'label_smoothing': False}\n",
            "\n"
          ],
          "name": "stdout"
        }
      ]
    },
    {
      "cell_type": "code",
      "metadata": {
        "id": "FbIzMZt0Fnbs",
        "colab_type": "code",
        "colab": {
          "base_uri": "https://localhost:8080/",
          "height": 1000
        },
        "outputId": "6e5f34ff-3a90-4db4-fcdc-b0f1b02f24bd"
      },
      "source": [
        "#Start Training\n",
        "gtf.Train();"
      ],
      "execution_count": 72,
      "outputs": [
        {
          "output_type": "stream",
          "text": [
            "Training Start\n",
            "Epoch 1/10\n",
            "101/101 [==============================] - 200s 2s/step - loss: 3.5820 - accuracy: 0.0986 - val_loss: 3.5430 - val_accuracy: 0.1019\n",
            "\n",
            "Epoch 00001: saving model to workspace/Make_classifier/inception-v3/output/models/resume_state.h5\n",
            "\n",
            "Epoch 00001: val_loss improved from inf to 3.54301, saving model to workspace/Make_classifier/inception-v3/output/models/best_model.h5\n",
            "\n",
            "Epoch 00001: saving model to workspace/Make_classifier/inception-v3/output/models/intermediate_model_01.h5\n",
            "Epoch 2/10\n",
            "101/101 [==============================] - 175s 2s/step - loss: 3.4716 - accuracy: 0.1086 - val_loss: 3.4799 - val_accuracy: 0.0953\n",
            "\n",
            "Epoch 00002: saving model to workspace/Make_classifier/inception-v3/output/models/resume_state.h5\n",
            "\n",
            "Epoch 00002: val_loss improved from 3.54301 to 3.47987, saving model to workspace/Make_classifier/inception-v3/output/models/best_model.h5\n",
            "\n",
            "Epoch 00002: saving model to workspace/Make_classifier/inception-v3/output/models/intermediate_model_02.h5\n",
            "Epoch 3/10\n",
            "101/101 [==============================] - 174s 2s/step - loss: 3.4402 - accuracy: 0.1142 - val_loss: 3.4661 - val_accuracy: 0.1010\n",
            "\n",
            "Epoch 00003: saving model to workspace/Make_classifier/inception-v3/output/models/resume_state.h5\n",
            "\n",
            "Epoch 00003: val_loss improved from 3.47987 to 3.46609, saving model to workspace/Make_classifier/inception-v3/output/models/best_model.h5\n",
            "\n",
            "Epoch 00003: saving model to workspace/Make_classifier/inception-v3/output/models/intermediate_model_03.h5\n",
            "Epoch 4/10\n",
            "101/101 [==============================] - 174s 2s/step - loss: 3.3891 - accuracy: 0.1245 - val_loss: 3.1789 - val_accuracy: 0.1081\n",
            "\n",
            "Epoch 00004: saving model to workspace/Make_classifier/inception-v3/output/models/resume_state.h5\n",
            "\n",
            "Epoch 00004: val_loss improved from 3.46609 to 3.17893, saving model to workspace/Make_classifier/inception-v3/output/models/best_model.h5\n",
            "\n",
            "Epoch 00004: saving model to workspace/Make_classifier/inception-v3/output/models/intermediate_model_04.h5\n",
            "Epoch 5/10\n",
            "101/101 [==============================] - 174s 2s/step - loss: 3.3550 - accuracy: 0.1231 - val_loss: 3.2778 - val_accuracy: 0.1176\n",
            "\n",
            "Epoch 00005: saving model to workspace/Make_classifier/inception-v3/output/models/resume_state.h5\n",
            "\n",
            "Epoch 00005: val_loss did not improve from 3.17893\n",
            "\n",
            "Epoch 00005: saving model to workspace/Make_classifier/inception-v3/output/models/intermediate_model_05.h5\n",
            "Epoch 6/10\n",
            "101/101 [==============================] - 173s 2s/step - loss: 3.3064 - accuracy: 0.1347 - val_loss: 3.3829 - val_accuracy: 0.0978\n",
            "\n",
            "Epoch 00006: saving model to workspace/Make_classifier/inception-v3/output/models/resume_state.h5\n",
            "\n",
            "Epoch 00006: val_loss did not improve from 3.17893\n",
            "\n",
            "Epoch 00006: saving model to workspace/Make_classifier/inception-v3/output/models/intermediate_model_06.h5\n",
            "Epoch 7/10\n",
            "101/101 [==============================] - 174s 2s/step - loss: 3.2686 - accuracy: 0.1372 - val_loss: 3.2193 - val_accuracy: 0.1292\n",
            "\n",
            "Epoch 00007: saving model to workspace/Make_classifier/inception-v3/output/models/resume_state.h5\n",
            "\n",
            "Epoch 00007: val_loss did not improve from 3.17893\n",
            "\n",
            "Epoch 00007: saving model to workspace/Make_classifier/inception-v3/output/models/intermediate_model_07.h5\n",
            "Epoch 8/10\n",
            "101/101 [==============================] - 172s 2s/step - loss: 3.2327 - accuracy: 0.1482 - val_loss: 3.4970 - val_accuracy: 0.1381\n",
            "\n",
            "Epoch 00008: saving model to workspace/Make_classifier/inception-v3/output/models/resume_state.h5\n",
            "\n",
            "Epoch 00008: val_loss did not improve from 3.17893\n",
            "\n",
            "Epoch 00008: saving model to workspace/Make_classifier/inception-v3/output/models/intermediate_model_08.h5\n",
            "Epoch 9/10\n",
            "101/101 [==============================] - 172s 2s/step - loss: 3.1807 - accuracy: 0.1601 - val_loss: 3.1527 - val_accuracy: 0.1285\n",
            "\n",
            "Epoch 00009: saving model to workspace/Make_classifier/inception-v3/output/models/resume_state.h5\n",
            "\n",
            "Epoch 00009: val_loss improved from 3.17893 to 3.15274, saving model to workspace/Make_classifier/inception-v3/output/models/best_model.h5\n",
            "\n",
            "Epoch 00009: saving model to workspace/Make_classifier/inception-v3/output/models/intermediate_model_09.h5\n",
            "Epoch 10/10\n",
            "101/101 [==============================] - 171s 2s/step - loss: 3.1279 - accuracy: 0.1692 - val_loss: 3.3209 - val_accuracy: 0.1343\n",
            "\n",
            "Epoch 00010: saving model to workspace/Make_classifier/inception-v3/output/models/resume_state.h5\n",
            "\n",
            "Epoch 00010: val_loss did not improve from 3.15274\n",
            "\n",
            "Epoch 00010: saving model to workspace/Make_classifier/inception-v3/output/models/intermediate_model_10.h5\n",
            "    Training completed in: 29m 19s\n",
            "    Best val Acc:          0.138107\n",
            "\n",
            "Training End\n",
            "\n",
            "Training Outputs\n",
            "    Model Dir:   /content/drive/My Drive/PilotTask/workspace/Make_classifier/inception-v3/output/models/\n",
            "    Log Dir:     /content/drive/My Drive/PilotTask/workspace/Make_classifier/inception-v3/output/logs/\n",
            "    Final model: final\n",
            "    Best model:  best_model\n",
            "    Log 1 - Validation accuracy history log: val_acc_history.npy\n",
            "    Log 2 - Validation loss history log:     val_loss_history.npy\n",
            "    Log 3 - Training accuracy history log:   train_acc_history.npy\n",
            "    Log 4 - Training loss history log:       train_loss_history.npy\n",
            "    Log 5 - Training curve:                  train_loss_history.npy\n",
            "    Log 6 - Validation curve:                train_loss_history.npy\n",
            "\n"
          ],
          "name": "stdout"
        },
        {
          "output_type": "display_data",
          "data": {
            "text/plain": [
              "<Figure size 432x288 with 0 Axes>"
            ]
          },
          "metadata": {
            "tags": []
          }
        }
      ]
    },
    {
      "cell_type": "code",
      "metadata": {
        "id": "niXJwT3QFnb7",
        "colab_type": "code",
        "colab": {}
      },
      "source": [
        "# Load for validation\n",
        "\n",
        "gtf = prototype(verbose=1);\n",
        "gtf.Prototype(\"Make_classifier\", \"inception-v3\", eval_infer=True);\n",
        "\n",
        "\n",
        "# Set dataset\n",
        "gtf.Dataset_Params(dataset_path=\"data/cars_test\",\n",
        "                   path_to_csv = \"vehicles_make_test.csv\")\n",
        "gtf.Dataset();\n",
        "\n",
        "\n",
        "# Validate\n",
        "accuracy, class_based_accuracy = gtf.Evaluate();"
      ],
      "execution_count": null,
      "outputs": []
    },
    {
      "cell_type": "markdown",
      "metadata": {
        "id": "Y53j1qTrFneu",
        "colab_type": "text"
      },
      "source": [
        "<a id='11'></a>\n",
        "# Model Classifier"
      ]
    },
    {
      "cell_type": "code",
      "metadata": {
        "id": "8penABehQ5wd",
        "colab_type": "code",
        "colab": {
          "base_uri": "https://localhost:8080/",
          "height": 629
        },
        "outputId": "282ea7e3-a3f2-422f-f93f-b6461f6c04d3"
      },
      "source": [
        "# Load experiment\n",
        "gtf = prototype(verbose=1);\n",
        "gtf.Prototype(\"Model_classifier\", \"inception-v3\")\n",
        "\n",
        "\n",
        "gtf.Dataset_Params(dataset_path=\"data/cars_train\",\n",
        "                   path_to_csv=\"vehicles_model.csv\",\n",
        "                   split=0.8, \n",
        "                   input_size=224, \n",
        "                   batch_size=64, \n",
        "                   shuffle_data=True,\n",
        "                   num_processors=3)\n",
        "\n",
        "# Transform\n",
        "gtf.apply_random_horizontal_flip(train=True, val=True)\n",
        "\n",
        "# Set Dataset\n",
        "gtf.Dataset();"
      ],
      "execution_count": 63,
      "outputs": [
        {
          "output_type": "stream",
          "text": [
            "Keras Version: 2.3.1\n",
            "Tensorflow Version: 2.2.0\n",
            "\n",
            "Experiment Details\n",
            "    Project: Model_classifier\n",
            "    Experiment: inception-v3\n",
            "    Dir: /content/drive/My Drive/PilotTask/workspace/Model_classifier/inception-v3/\n",
            "\n",
            "Dataset Details\n",
            "    Train path:     data/cars_train\n",
            "    Val path:       None\n",
            "    CSV train path: vehicles_model.csv\n",
            "    CSV val path:   None\n",
            "    Label Type:     multiple\n",
            "\n",
            "Dataset Params\n",
            "    Input Size:   224\n",
            "    Batch Size:   64\n",
            "    Data Shuffle: True\n",
            "    Processors:   3\n",
            "    Train-val split:   0.8\n",
            "    Delimiter:   ,\n",
            "\n",
            "Found 6516 validated image filenames belonging to 174 classes.\n",
            "Found 1628 validated image filenames belonging to 174 classes.\n",
            "Pre-Composed Train Transforms\n",
            "[{'RandomHorizontalFlip': {'p': 0.5}}]\n",
            "\n",
            "Pre-Composed Val Transforms\n",
            "[{'RandomHorizontalFlip': {'p': 0.5}}]\n",
            "\n",
            "Dataset Numbers\n",
            "    Num train images: 6516\n",
            "    Num val images:   1628\n",
            "    Num classes:      174\n",
            "\n"
          ],
          "name": "stdout"
        }
      ]
    },
    {
      "cell_type": "code",
      "metadata": {
        "colab_type": "code",
        "id": "mI_y7kN5RNTD",
        "colab": {
          "base_uri": "https://localhost:8080/",
          "height": 255
        },
        "outputId": "bc6624d8-591e-4b11-bc2c-cad8f91ba89d"
      },
      "source": [
        "# Set model parameters\n",
        "gtf.Model_Params(model_name=\"inception_v3\", freeze_base_network=False, use_gpu=True, use_pretrained=False, gpu_memory_fraction=0.8);\n",
        "\n",
        "# Load model\n",
        "gtf.Model()"
      ],
      "execution_count": 64,
      "outputs": [
        {
          "output_type": "stream",
          "text": [
            "Model Params\n",
            "    Model name:           inception_v3\n",
            "    Use Gpu:              True\n",
            "    Gpu Memory Fraction:  0.8\n",
            "    Use pretrained:       False\n",
            "    Freeze base network:  False\n",
            "\n",
            "Model Details\n",
            "    Loading pretrained model\n",
            "    Model Loaded on device\n",
            "        Model name:                           inception_v3\n",
            "        Num layers in model:  190\n",
            "        Num trainable layers: 190\n",
            "\n"
          ],
          "name": "stdout"
        }
      ]
    },
    {
      "cell_type": "code",
      "metadata": {
        "colab_type": "code",
        "id": "qN8_8wquRNTI",
        "colab": {
          "base_uri": "https://localhost:8080/",
          "height": 374
        },
        "outputId": "3adb4502-1701-43a0-b853-6a1cc9fad437"
      },
      "source": [
        "# Set Training parameters\n",
        "gtf.Training_Params(num_epochs=5, display_progress=True, display_progress_realtime=True, \n",
        "                    save_intermediate_models=True, save_training_logs=True)\n",
        "\n",
        "# Using RMSprop optimizer\n",
        "gtf.optimizer_sgd(0.03)\n",
        "\n",
        "# Fixed learning rate\n",
        "gtf.lr_fixed()"
      ],
      "execution_count": 65,
      "outputs": [
        {
          "output_type": "stream",
          "text": [
            "Training params\n",
            "    Num Epochs: 5\n",
            "\n",
            "Display params\n",
            "    Display progress:          True\n",
            "    Display progress realtime: True\n",
            "    Save Training logs:        True\n",
            "    Save Intermediate models:  True\n",
            "    Intermediate model prefix: intermediate_model_\n",
            "\n",
            "Optimizer\n",
            "    Name:          sgd\n",
            "    Learning rate: 0.03\n",
            "    Params:        {'lr': 0.03, 'momentum': 0, 'weight_decay': 0, 'momentum_dampening_rate': 0, 'clipnorm': 0.0, 'clipvalue': 0.0}\n",
            "\n",
            "\n",
            "\n",
            "Learning rate scheduler\n",
            "    Name:   fixed\n",
            "    Params: {}\n",
            "\n"
          ],
          "name": "stdout"
        }
      ]
    },
    {
      "cell_type": "code",
      "metadata": {
        "colab_type": "code",
        "id": "L0ku9VxRRNTK",
        "colab": {
          "base_uri": "https://localhost:8080/",
          "height": 85
        },
        "outputId": "2795507a-7733-4404-9970-263ca23f1696"
      },
      "source": [
        "gtf.loss_crossentropy()"
      ],
      "execution_count": 66,
      "outputs": [
        {
          "output_type": "stream",
          "text": [
            "Loss\n",
            "    Name:          crossentropy\n",
            "    Params:        {'weight': None, 'batch_axis': 0, 'axis_to_sum_over': -1, 'label_as_categories': True, 'label_smoothing': False}\n",
            "\n"
          ],
          "name": "stdout"
        }
      ]
    },
    {
      "cell_type": "code",
      "metadata": {
        "colab_type": "code",
        "id": "VbRtFSqoRNTM",
        "colab": {
          "base_uri": "https://localhost:8080/",
          "height": 1000
        },
        "outputId": "e57dae1d-b793-4e7a-9080-d83c79379b04"
      },
      "source": [
        "#Start Training\n",
        "gtf.Train();"
      ],
      "execution_count": 67,
      "outputs": [
        {
          "output_type": "stream",
          "text": [
            "Training Start\n",
            "Epoch 1/5\n",
            "101/101 [==============================] - 199s 2s/step - loss: 5.1564 - accuracy: 0.0074 - val_loss: 5.1545 - val_accuracy: 0.0088\n",
            "\n",
            "Epoch 00001: saving model to workspace/Model_classifier/inception-v3/output/models/resume_state.h5\n",
            "\n",
            "Epoch 00001: val_loss improved from inf to 5.15450, saving model to workspace/Model_classifier/inception-v3/output/models/best_model.h5\n",
            "\n",
            "Epoch 00001: saving model to workspace/Model_classifier/inception-v3/output/models/intermediate_model_01.h5\n",
            "Epoch 2/5\n",
            "101/101 [==============================] - 174s 2s/step - loss: 5.1150 - accuracy: 0.0107 - val_loss: 5.0822 - val_accuracy: 0.0102\n",
            "\n",
            "Epoch 00002: saving model to workspace/Model_classifier/inception-v3/output/models/resume_state.h5\n",
            "\n",
            "Epoch 00002: val_loss improved from 5.15450 to 5.08221, saving model to workspace/Model_classifier/inception-v3/output/models/best_model.h5\n",
            "\n",
            "Epoch 00002: saving model to workspace/Model_classifier/inception-v3/output/models/intermediate_model_02.h5\n",
            "Epoch 3/5\n",
            "101/101 [==============================] - 173s 2s/step - loss: 5.0930 - accuracy: 0.0140 - val_loss: 5.1131 - val_accuracy: 0.0109\n",
            "\n",
            "Epoch 00003: saving model to workspace/Model_classifier/inception-v3/output/models/resume_state.h5\n",
            "\n",
            "Epoch 00003: val_loss did not improve from 5.08221\n",
            "\n",
            "Epoch 00003: saving model to workspace/Model_classifier/inception-v3/output/models/intermediate_model_03.h5\n",
            "Epoch 4/5\n",
            "101/101 [==============================] - 173s 2s/step - loss: 5.0646 - accuracy: 0.0136 - val_loss: 5.0262 - val_accuracy: 0.0192\n",
            "\n",
            "Epoch 00004: saving model to workspace/Model_classifier/inception-v3/output/models/resume_state.h5\n",
            "\n",
            "Epoch 00004: val_loss improved from 5.08221 to 5.02624, saving model to workspace/Model_classifier/inception-v3/output/models/best_model.h5\n",
            "\n",
            "Epoch 00004: saving model to workspace/Model_classifier/inception-v3/output/models/intermediate_model_04.h5\n",
            "Epoch 5/5\n",
            "101/101 [==============================] - 172s 2s/step - loss: 5.0541 - accuracy: 0.0149 - val_loss: 5.0921 - val_accuracy: 0.0128\n",
            "\n",
            "Epoch 00005: saving model to workspace/Model_classifier/inception-v3/output/models/resume_state.h5\n",
            "\n",
            "Epoch 00005: val_loss did not improve from 5.02624\n",
            "\n",
            "Epoch 00005: saving model to workspace/Model_classifier/inception-v3/output/models/intermediate_model_05.h5\n",
            "    Training completed in: 14m 50s\n",
            "    Best val Acc:          0.019182\n",
            "\n",
            "Training End\n",
            "\n",
            "Training Outputs\n",
            "    Model Dir:   /content/drive/My Drive/PilotTask/workspace/Model_classifier/inception-v3/output/models/\n",
            "    Log Dir:     /content/drive/My Drive/PilotTask/workspace/Model_classifier/inception-v3/output/logs/\n",
            "    Final model: final\n",
            "    Best model:  best_model\n",
            "    Log 1 - Validation accuracy history log: val_acc_history.npy\n",
            "    Log 2 - Validation loss history log:     val_loss_history.npy\n",
            "    Log 3 - Training accuracy history log:   train_acc_history.npy\n",
            "    Log 4 - Training loss history log:       train_loss_history.npy\n",
            "    Log 5 - Training curve:                  train_loss_history.npy\n",
            "    Log 6 - Validation curve:                train_loss_history.npy\n",
            "\n"
          ],
          "name": "stdout"
        },
        {
          "output_type": "display_data",
          "data": {
            "text/plain": [
              "<Figure size 432x288 with 0 Axes>"
            ]
          },
          "metadata": {
            "tags": []
          }
        }
      ]
    },
    {
      "cell_type": "code",
      "metadata": {
        "colab_type": "code",
        "id": "DNPzkKWPRNTN",
        "colab": {}
      },
      "source": [
        "# Load for validation\n",
        "\n",
        "gtf = prototype(verbose=1);\n",
        "gtf.Prototype(\"Model_classifier\", \"resnet50-v2\", eval_infer=True);\n",
        "\n",
        "\n",
        "# Set dataset\n",
        "gtf.Dataset_Params(dataset_path=\"data/cars_test\",\n",
        "                   path_to_csv = \"vehicles_model_test.csv\")\n",
        "gtf.Dataset();\n",
        "\n",
        "\n",
        "# Validate\n",
        "accuracy, class_based_accuracy = gtf.Evaluate();"
      ],
      "execution_count": null,
      "outputs": []
    },
    {
      "cell_type": "markdown",
      "metadata": {
        "id": "ZJfIlmTkR8eI",
        "colab_type": "text"
      },
      "source": [
        "#Year Classifier"
      ]
    },
    {
      "cell_type": "code",
      "metadata": {
        "colab_type": "code",
        "id": "bUqGlUzBR7yc",
        "colab": {
          "base_uri": "https://localhost:8080/",
          "height": 629
        },
        "outputId": "2f840eef-26e9-4379-f704-db7fa905d4dc"
      },
      "source": [
        "# Load experiment\n",
        "gtf = prototype(verbose=1);\n",
        "gtf.Prototype(\"Year_classifier\", \"inception-v3\")\n",
        "\n",
        "\n",
        "gtf.Dataset_Params(dataset_path=\"data/cars_train\",\n",
        "                   path_to_csv=\"vehicles_year.csv\",\n",
        "                   split=0.8, input_size=224, \n",
        "                   batch_size=64,\n",
        "                   shuffle_data=True, \n",
        "                   num_processors=3)\n",
        "\n",
        "# Transform\n",
        "gtf.apply_random_horizontal_flip(train=True, val=True)\n",
        "\n",
        "# Set Dataset\n",
        "gtf.Dataset();"
      ],
      "execution_count": 49,
      "outputs": [
        {
          "output_type": "stream",
          "text": [
            "Keras Version: 2.3.1\n",
            "Tensorflow Version: 2.2.0\n",
            "\n",
            "Experiment Details\n",
            "    Project: Year_classifier\n",
            "    Experiment: inception-v3\n",
            "    Dir: /content/drive/My Drive/PilotTask/workspace/Year_classifier/inception-v3/\n",
            "\n",
            "Dataset Details\n",
            "    Train path:     data/cars_train\n",
            "    Val path:       None\n",
            "    CSV train path: vehicles_year.csv\n",
            "    CSV val path:   None\n",
            "    Label Type:     single\n",
            "\n",
            "Dataset Params\n",
            "    Input Size:   224\n",
            "    Batch Size:   64\n",
            "    Data Shuffle: True\n",
            "    Processors:   3\n",
            "    Train-val split:   0.8\n",
            "    Delimiter:   ,\n",
            "\n",
            "Found 6516 validated image filenames belonging to 16 classes.\n",
            "Found 1628 validated image filenames belonging to 16 classes.\n",
            "Pre-Composed Train Transforms\n",
            "[{'RandomHorizontalFlip': {'p': 0.5}}]\n",
            "\n",
            "Pre-Composed Val Transforms\n",
            "[{'RandomHorizontalFlip': {'p': 0.5}}]\n",
            "\n",
            "Dataset Numbers\n",
            "    Num train images: 6516\n",
            "    Num val images:   1628\n",
            "    Num classes:      16\n",
            "\n"
          ],
          "name": "stdout"
        }
      ]
    },
    {
      "cell_type": "code",
      "metadata": {
        "colab_type": "code",
        "id": "HmCMcLIBR7yf",
        "colab": {
          "base_uri": "https://localhost:8080/",
          "height": 255
        },
        "outputId": "da39d14c-cea8-4841-d7e6-c0af3c0335b8"
      },
      "source": [
        "# Set model parameters\n",
        "gtf.Model_Params(model_name=\"inception_v3\", freeze_base_network=False, use_gpu=True, use_pretrained=False, gpu_memory_fraction=0.8);\n",
        "\n",
        "# Load model\n",
        "gtf.Model()"
      ],
      "execution_count": 50,
      "outputs": [
        {
          "output_type": "stream",
          "text": [
            "Model Params\n",
            "    Model name:           inception_v3\n",
            "    Use Gpu:              True\n",
            "    Gpu Memory Fraction:  0.8\n",
            "    Use pretrained:       False\n",
            "    Freeze base network:  False\n",
            "\n",
            "Model Details\n",
            "    Loading pretrained model\n",
            "    Model Loaded on device\n",
            "        Model name:                           inception_v3\n",
            "        Num layers in model:  190\n",
            "        Num trainable layers: 190\n",
            "\n"
          ],
          "name": "stdout"
        }
      ]
    },
    {
      "cell_type": "code",
      "metadata": {
        "colab_type": "code",
        "id": "2PPgEiIwR7yh",
        "colab": {
          "base_uri": "https://localhost:8080/",
          "height": 374
        },
        "outputId": "ae58e690-a94c-4b6e-deb1-39f14a3fab38"
      },
      "source": [
        "# Set Training parameters\n",
        "gtf.Training_Params(num_epochs=5, display_progress=True, display_progress_realtime=True, \n",
        "                    save_intermediate_models=True, save_training_logs=True)\n",
        "\n",
        "# Using RMSprop optimizer\n",
        "gtf.optimizer_sgd(0.01)\n",
        "\n",
        "# Fixed learning rate\n",
        "gtf.lr_fixed()"
      ],
      "execution_count": 51,
      "outputs": [
        {
          "output_type": "stream",
          "text": [
            "Training params\n",
            "    Num Epochs: 5\n",
            "\n",
            "Display params\n",
            "    Display progress:          True\n",
            "    Display progress realtime: True\n",
            "    Save Training logs:        True\n",
            "    Save Intermediate models:  True\n",
            "    Intermediate model prefix: intermediate_model_\n",
            "\n",
            "Optimizer\n",
            "    Name:          sgd\n",
            "    Learning rate: 0.01\n",
            "    Params:        {'lr': 0.01, 'momentum': 0, 'weight_decay': 0, 'momentum_dampening_rate': 0, 'clipnorm': 0.0, 'clipvalue': 0.0}\n",
            "\n",
            "\n",
            "\n",
            "Learning rate scheduler\n",
            "    Name:   fixed\n",
            "    Params: {}\n",
            "\n"
          ],
          "name": "stdout"
        }
      ]
    },
    {
      "cell_type": "code",
      "metadata": {
        "colab_type": "code",
        "id": "sxmKeEodR7yj",
        "colab": {
          "base_uri": "https://localhost:8080/",
          "height": 85
        },
        "outputId": "15e9d360-9554-4072-96cc-ee23c5cd0d58"
      },
      "source": [
        "gtf.loss_crossentropy()"
      ],
      "execution_count": 52,
      "outputs": [
        {
          "output_type": "stream",
          "text": [
            "Loss\n",
            "    Name:          crossentropy\n",
            "    Params:        {'weight': None, 'batch_axis': 0, 'axis_to_sum_over': -1, 'label_as_categories': True, 'label_smoothing': False}\n",
            "\n"
          ],
          "name": "stdout"
        }
      ]
    },
    {
      "cell_type": "code",
      "metadata": {
        "colab_type": "code",
        "id": "au-jhAVtR7yl",
        "colab": {
          "base_uri": "https://localhost:8080/",
          "height": 1000
        },
        "outputId": "0f837686-884c-4f04-a24b-a9f9340c5222"
      },
      "source": [
        "#Start Training\n",
        "gtf.Train();"
      ],
      "execution_count": 53,
      "outputs": [
        {
          "output_type": "stream",
          "text": [
            "Training Start\n",
            "Epoch 1/5\n",
            "101/101 [==============================] - 210s 2s/step - loss: 1.7113 - accuracy: 0.5778 - val_loss: 1.8276 - val_accuracy: 0.5938\n",
            "\n",
            "Epoch 00001: saving model to workspace/Year_classifier/inception-v3/output/models/resume_state.h5\n",
            "\n",
            "Epoch 00001: val_loss improved from inf to 1.82757, saving model to workspace/Year_classifier/inception-v3/output/models/best_model.h5\n",
            "\n",
            "Epoch 00001: saving model to workspace/Year_classifier/inception-v3/output/models/intermediate_model_01.h5\n",
            "Epoch 2/5\n",
            "101/101 [==============================] - 175s 2s/step - loss: 1.6092 - accuracy: 0.5879 - val_loss: 1.6737 - val_accuracy: 0.5953\n",
            "\n",
            "Epoch 00002: saving model to workspace/Year_classifier/inception-v3/output/models/resume_state.h5\n",
            "\n",
            "Epoch 00002: val_loss improved from 1.82757 to 1.67365, saving model to workspace/Year_classifier/inception-v3/output/models/best_model.h5\n",
            "\n",
            "Epoch 00002: saving model to workspace/Year_classifier/inception-v3/output/models/intermediate_model_02.h5\n",
            "Epoch 3/5\n",
            "101/101 [==============================] - 174s 2s/step - loss: 1.6001 - accuracy: 0.5891 - val_loss: 1.2671 - val_accuracy: 0.5940\n",
            "\n",
            "Epoch 00003: saving model to workspace/Year_classifier/inception-v3/output/models/resume_state.h5\n",
            "\n",
            "Epoch 00003: val_loss improved from 1.67365 to 1.26708, saving model to workspace/Year_classifier/inception-v3/output/models/best_model.h5\n",
            "\n",
            "Epoch 00003: saving model to workspace/Year_classifier/inception-v3/output/models/intermediate_model_03.h5\n",
            "Epoch 4/5\n",
            "101/101 [==============================] - 174s 2s/step - loss: 1.5883 - accuracy: 0.5877 - val_loss: 1.4120 - val_accuracy: 0.6004\n",
            "\n",
            "Epoch 00004: saving model to workspace/Year_classifier/inception-v3/output/models/resume_state.h5\n",
            "\n",
            "Epoch 00004: val_loss did not improve from 1.26708\n",
            "\n",
            "Epoch 00004: saving model to workspace/Year_classifier/inception-v3/output/models/intermediate_model_04.h5\n",
            "Epoch 5/5\n",
            "101/101 [==============================] - 173s 2s/step - loss: 1.5616 - accuracy: 0.5908 - val_loss: 1.7414 - val_accuracy: 0.5908\n",
            "\n",
            "Epoch 00005: saving model to workspace/Year_classifier/inception-v3/output/models/resume_state.h5\n",
            "\n",
            "Epoch 00005: val_loss did not improve from 1.26708\n",
            "\n",
            "Epoch 00005: saving model to workspace/Year_classifier/inception-v3/output/models/intermediate_model_05.h5\n",
            "    Training completed in: 15m 5s\n",
            "    Best val Acc:          0.600384\n",
            "\n",
            "Training End\n",
            "\n",
            "Training Outputs\n",
            "    Model Dir:   /content/drive/My Drive/PilotTask/workspace/Year_classifier/inception-v3/output/models/\n",
            "    Log Dir:     /content/drive/My Drive/PilotTask/workspace/Year_classifier/inception-v3/output/logs/\n",
            "    Final model: final\n",
            "    Best model:  best_model\n",
            "    Log 1 - Validation accuracy history log: val_acc_history.npy\n",
            "    Log 2 - Validation loss history log:     val_loss_history.npy\n",
            "    Log 3 - Training accuracy history log:   train_acc_history.npy\n",
            "    Log 4 - Training loss history log:       train_loss_history.npy\n",
            "    Log 5 - Training curve:                  train_loss_history.npy\n",
            "    Log 6 - Validation curve:                train_loss_history.npy\n",
            "\n"
          ],
          "name": "stdout"
        },
        {
          "output_type": "display_data",
          "data": {
            "text/plain": [
              "<Figure size 432x288 with 0 Axes>"
            ]
          },
          "metadata": {
            "tags": []
          }
        }
      ]
    },
    {
      "cell_type": "code",
      "metadata": {
        "colab_type": "code",
        "id": "dMIqh3kZR7yn",
        "colab": {}
      },
      "source": [
        "# Load for validation\n",
        "\n",
        "gtf = prototype(verbose=1);\n",
        "gtf.Prototype(\"Year_classifier\", \"inception_v3\", eval_infer=True);\n",
        "\n",
        "\n",
        "# Set dataset\n",
        "gtf.Dataset_Params(dataset_path=\"data/cars_test\",\n",
        "                   path_to_csv = \"vehicles_year_test.csv\")\n",
        "gtf.Dataset();\n",
        "\n",
        "\n",
        "# Validate\n",
        "accuracy, class_based_accuracy = gtf.Evaluate();"
      ],
      "execution_count": null,
      "outputs": []
    }
  ]
}